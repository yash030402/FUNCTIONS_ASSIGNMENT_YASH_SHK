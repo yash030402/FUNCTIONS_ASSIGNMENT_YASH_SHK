{
  "nbformat": 4,
  "nbformat_minor": 0,
  "metadata": {
    "colab": {
      "provenance": []
    },
    "kernelspec": {
      "name": "python3",
      "display_name": "Python 3"
    },
    "language_info": {
      "name": "python"
    }
  },
  "cells": [
    {
      "cell_type": "markdown",
      "source": [
        "**THEORY QUESTIONS**"
      ],
      "metadata": {
        "id": "RtjRcR-RBQ0G"
      }
    },
    {
      "cell_type": "markdown",
      "source": [
        "Q1  What is the difference between a function and a method in Python ?"
      ],
      "metadata": {
        "id": "X7D3m4tvarsz"
      }
    },
    {
      "cell_type": "markdown",
      "source": [
        "ANS-In Python, both functions and methods are used to perform tasks, but they  have some key differences:\n",
        "\n",
        "FUNCTION-\n",
        "\n",
        "functions are predefined keywords in python whose work is already assigned . Functions are independent and can be called without being associated with any object. example- print, len,type etc.all these are predefined keywords."
      ],
      "metadata": {
        "id": "ldhXUKTYfhPD"
      }
    },
    {
      "cell_type": "code",
      "source": [
        "#syntax- def function_name(parameters):"
      ],
      "metadata": {
        "id": "bPdPaHK1fk86"
      },
      "execution_count": null,
      "outputs": []
    },
    {
      "cell_type": "code",
      "source": [
        "#example -\n",
        "def add (a, b):\n",
        "  return a+b"
      ],
      "metadata": {
        "id": "Oy7pVBmSghrT"
      },
      "execution_count": null,
      "outputs": []
    },
    {
      "cell_type": "code",
      "source": [
        "add(5,3)"
      ],
      "metadata": {
        "colab": {
          "base_uri": "https://localhost:8080/"
        },
        "id": "rdrlTds1g3y1",
        "outputId": "6487f1b8-491e-483d-eaa0-d5d0f9260f49"
      },
      "execution_count": null,
      "outputs": [
        {
          "output_type": "execute_result",
          "data": {
            "text/plain": [
              "8"
            ]
          },
          "metadata": {},
          "execution_count": 3
        }
      ]
    },
    {
      "cell_type": "code",
      "source": [
        "def greeting(name):\n",
        "  print(\"welcome to my assignment\", name)"
      ],
      "metadata": {
        "id": "XVnNCgsyiAg8"
      },
      "execution_count": null,
      "outputs": []
    },
    {
      "cell_type": "code",
      "source": [
        "greeting(\"sir/mam\")"
      ],
      "metadata": {
        "colab": {
          "base_uri": "https://localhost:8080/"
        },
        "id": "JqmC2RWDizUw",
        "outputId": "266b8935-9d27-472c-ab07-e53537c9cd1d"
      },
      "execution_count": null,
      "outputs": [
        {
          "output_type": "stream",
          "name": "stdout",
          "text": [
            "welcome to my assignment sir/mam\n"
          ]
        }
      ]
    },
    {
      "cell_type": "markdown",
      "source": [
        "Methods-\n",
        "\n",
        "Definition: A method is similar to a function but is associated with an object. Methods are defined within a class and can operate on data contained within the class.\n",
        "\n",
        "Dependency: Methods are dependent on the object they belong to and are called on an instance of the class."
      ],
      "metadata": {
        "id": "s-1C66sjk5Iw"
      }
    },
    {
      "cell_type": "code",
      "source": [
        "class Student:\n",
        "   def study(self):\n",
        "       return \"Student is studying...\"\n",
        "student1 = Student()\n",
        "print(f\"Object Created: {student1}\")"
      ],
      "metadata": {
        "colab": {
          "base_uri": "https://localhost:8080/"
        },
        "id": "UUomg7UzDpMu",
        "outputId": "d31cccf7-1969-4d18-be14-a2db9e85a0cc"
      },
      "execution_count": null,
      "outputs": [
        {
          "output_type": "stream",
          "name": "stdout",
          "text": [
            "Object Created: <__main__.Student object at 0x7d64d8fe4310>\n"
          ]
        }
      ]
    },
    {
      "cell_type": "markdown",
      "source": [
        "Q2 Explain the concept of function arguments and parameters in Python ?"
      ],
      "metadata": {
        "id": "bCowL_S9Egr1"
      }
    },
    {
      "cell_type": "markdown",
      "source": [
        "ANS-In Python, parameters and arguments are concepts that are used to pass information to functions. A parameter is a variable that is defined by the function that will receive a value when the function is called. An argument, on the other hand, is the actual value that is given to the function when it is called.\n",
        "\n",
        "Parameters in Python -\n",
        "\n",
        "Parameters are the names used in a function definition that are placeholders for the values that the function will operate on. They are defined within the parentheses in the function definition and act as variables within the function. For example:"
      ],
      "metadata": {
        "id": "Z0ICxC5cFIC4"
      }
    },
    {
      "cell_type": "code",
      "source": [
        "#def sum(a, b): # 'a' and 'b' are parameters\n",
        "#print(a + b)\n",
        "\n",
        "#sum(1, 2) # '1' and '2' are arguments\n",
        "#In the above code, a and b are parameters of the sum function"
      ],
      "metadata": {
        "id": "jSr7omQ_F104"
      },
      "execution_count": null,
      "outputs": []
    },
    {
      "cell_type": "code",
      "source": [
        "def sum(a, b):\n",
        "  print(a+b)"
      ],
      "metadata": {
        "id": "y3Wn0hYpGN5u"
      },
      "execution_count": null,
      "outputs": []
    },
    {
      "cell_type": "code",
      "source": [
        "sum(1, 2)"
      ],
      "metadata": {
        "colab": {
          "base_uri": "https://localhost:8080/"
        },
        "id": "qG3OA8YUGW6i",
        "outputId": "b40c4ea8-7959-42d1-825d-89e307f82079"
      },
      "execution_count": null,
      "outputs": [
        {
          "output_type": "stream",
          "name": "stdout",
          "text": [
            "3\n"
          ]
        }
      ]
    },
    {
      "cell_type": "markdown",
      "source": [
        "Arguments in Python -\n",
        "\n",
        "Arguments are the actual values that are passed to a function when it is called. They replace the parameters when the function runs. Arguments can be constants, variables, or expressions that Python evaluates before passing to the function. For example:\n"
      ],
      "metadata": {
        "id": "bLdWOoKnGsap"
      }
    },
    {
      "cell_type": "code",
      "source": [
        "def sum(a, b):\n",
        "  print(a + b)\n",
        "\n",
        "sum(1, 2) # Here, '1' and '2' are arguments\\\n",
        "#The values 1 and 2 are the arguments that are passed to the sum function when it is called"
      ],
      "metadata": {
        "colab": {
          "base_uri": "https://localhost:8080/"
        },
        "id": "TRcIj3nAG1De",
        "outputId": "a9907c5f-9620-4aa0-b435-8c17d3cead18"
      },
      "execution_count": null,
      "outputs": [
        {
          "output_type": "stream",
          "name": "stdout",
          "text": [
            "3\n"
          ]
        }
      ]
    },
    {
      "cell_type": "markdown",
      "source": [
        "Q3  What are the different ways to define and call a function in Python ?"
      ],
      "metadata": {
        "id": "pHHtViLiHMwn"
      }
    },
    {
      "cell_type": "markdown",
      "source": [
        "ANS- functions are predefined keywords in python whose work is already assigned but we can create our functions as well.\n",
        "\n",
        "Creating a Function-\n",
        "\n",
        "In Python a function is defined using the def keyword:\n"
      ],
      "metadata": {
        "id": "HWsA3gSvI1c8"
      }
    },
    {
      "cell_type": "code",
      "source": [
        "def yash():\n",
        "  print(\"Hello yash here, ggz\")"
      ],
      "metadata": {
        "id": "26P5PMATI77j"
      },
      "execution_count": null,
      "outputs": []
    },
    {
      "cell_type": "code",
      "source": [
        "yash"
      ],
      "metadata": {
        "colab": {
          "base_uri": "https://localhost:8080/",
          "height": 103
        },
        "id": "S5V_YdY0Juoo",
        "outputId": "7a15da7c-8e80-47a9-ff68-2646d6ca8213"
      },
      "execution_count": null,
      "outputs": [
        {
          "output_type": "execute_result",
          "data": {
            "text/plain": [
              "<function __main__.yash()>"
            ],
            "text/html": [
              "<div style=\"max-width:800px; border: 1px solid var(--colab-border-color);\"><style>\n",
              "      pre.function-repr-contents {\n",
              "        overflow-x: auto;\n",
              "        padding: 8px 12px;\n",
              "        max-height: 500px;\n",
              "      }\n",
              "\n",
              "      pre.function-repr-contents.function-repr-contents-collapsed {\n",
              "        cursor: pointer;\n",
              "        max-height: 100px;\n",
              "      }\n",
              "    </style>\n",
              "    <pre style=\"white-space: initial; background:\n",
              "         var(--colab-secondary-surface-color); padding: 8px 12px;\n",
              "         border-bottom: 1px solid var(--colab-border-color);\"><b>yash</b><br/>def yash()</pre><pre class=\"function-repr-contents function-repr-contents-collapsed\" style=\"\"><a class=\"filepath\" style=\"display:none\" href=\"#\">/content/&lt;ipython-input-31-0f14ea2485a8&gt;</a>&lt;no docstring&gt;</pre></div>"
            ]
          },
          "metadata": {},
          "execution_count": 33
        }
      ]
    },
    {
      "cell_type": "markdown",
      "source": [
        "Calling a Function -\n",
        "\n",
        "To call a function, use the function name followed by parenthesis:"
      ],
      "metadata": {
        "id": "dyFqmc0PKB2c"
      }
    },
    {
      "cell_type": "code",
      "source": [
        "#Example\n",
        "def lord_carry():\n",
        "  print(\"Hello guys toh kese h aap sab\")\n",
        "\n",
        "lord_carry()"
      ],
      "metadata": {
        "colab": {
          "base_uri": "https://localhost:8080/"
        },
        "id": "Nh1G1nCqJvvX",
        "outputId": "56add73b-026e-452c-9975-e1cff427c17a"
      },
      "execution_count": null,
      "outputs": [
        {
          "output_type": "stream",
          "name": "stdout",
          "text": [
            "Hello guys toh kese h aap sab\n"
          ]
        }
      ]
    },
    {
      "cell_type": "markdown",
      "source": [
        "Number of Arguments -\n",
        "\n",
        "By default, a function must be called with the correct number of arguments. Meaning that if your function expects 2 arguments, you have to call the function with 2 arguments, not more, and not less."
      ],
      "metadata": {
        "id": "WGpWCH4vK1jI"
      }
    },
    {
      "cell_type": "code",
      "source": [
        "#Example\n",
        "#This function expects 2 arguments, and gets 2 arguments:\n",
        "\n",
        "def jetha_lal(fname, lname):\n",
        "  print(fname + \" \" + lname)\n",
        "\n",
        "jetha_lal(\"sienist\", \"goli beta masti nhi\")"
      ],
      "metadata": {
        "colab": {
          "base_uri": "https://localhost:8080/"
        },
        "id": "Kfa0ju-ZK4ji",
        "outputId": "bc8642f2-f567-4436-8cdd-58cf36aa3656"
      },
      "execution_count": null,
      "outputs": [
        {
          "output_type": "stream",
          "name": "stdout",
          "text": [
            "sienist goli beta masti nhi\n"
          ]
        }
      ]
    },
    {
      "cell_type": "code",
      "source": [
        "#If you try to call the function with 1 or 3 arguments, you will get an error:\n",
        "#Example\n",
        "#This function expects 2 arguments, but gets only 1:\n",
        "\n",
        "def pwskills(fname, lname):\n",
        "  print(fname + \" \" + lname)\n",
        "\n",
        "pwskills(\"ajay sir\")"
      ],
      "metadata": {
        "colab": {
          "base_uri": "https://localhost:8080/",
          "height": 182
        },
        "id": "wtwZW45ELYJA",
        "outputId": "f99d9b9d-d0df-42aa-a408-c2740673d15b"
      },
      "execution_count": null,
      "outputs": [
        {
          "output_type": "error",
          "ename": "TypeError",
          "evalue": "pwskills() missing 1 required positional argument: 'lname'",
          "traceback": [
            "\u001b[0;31m---------------------------------------------------------------------------\u001b[0m",
            "\u001b[0;31mTypeError\u001b[0m                                 Traceback (most recent call last)",
            "\u001b[0;32m<ipython-input-37-b002c4ccd345>\u001b[0m in \u001b[0;36m<cell line: 8>\u001b[0;34m()\u001b[0m\n\u001b[1;32m      6\u001b[0m   \u001b[0mprint\u001b[0m\u001b[0;34m(\u001b[0m\u001b[0mfname\u001b[0m \u001b[0;34m+\u001b[0m \u001b[0;34m\" \"\u001b[0m \u001b[0;34m+\u001b[0m \u001b[0mlname\u001b[0m\u001b[0;34m)\u001b[0m\u001b[0;34m\u001b[0m\u001b[0;34m\u001b[0m\u001b[0m\n\u001b[1;32m      7\u001b[0m \u001b[0;34m\u001b[0m\u001b[0m\n\u001b[0;32m----> 8\u001b[0;31m \u001b[0mpwskills\u001b[0m\u001b[0;34m(\u001b[0m\u001b[0;34m\"ajay sir\"\u001b[0m\u001b[0;34m)\u001b[0m\u001b[0;34m\u001b[0m\u001b[0;34m\u001b[0m\u001b[0m\n\u001b[0m",
            "\u001b[0;31mTypeError\u001b[0m: pwskills() missing 1 required positional argument: 'lname'"
          ]
        }
      ]
    },
    {
      "cell_type": "markdown",
      "source": [
        "Arbitrary Argument -  *args\n",
        "\n",
        "\n",
        "If you do not know how many arguments that will be passed into your function, add a * before the parameter name in the function definition.\n",
        "\n",
        "This way the function will receive a tuple of arguments, and can access the items accordingly:"
      ],
      "metadata": {
        "id": "ibuufv788vl-"
      }
    },
    {
      "cell_type": "code",
      "source": [
        "#Example\n",
        "#If the number of arguments is unknown, add a * before the parameter name:\n",
        "\n",
        "def tappu_sena(*args):\n",
        "  return args"
      ],
      "metadata": {
        "id": "QyAIZwKZ87L0"
      },
      "execution_count": null,
      "outputs": []
    },
    {
      "cell_type": "code",
      "source": [
        "tappu_sena(\"tappu, sonu,goli,pinku\")"
      ],
      "metadata": {
        "colab": {
          "base_uri": "https://localhost:8080/"
        },
        "id": "cO8LCjST9xUt",
        "outputId": "da745363-cb18-4509-ee21-a0933723f064"
      },
      "execution_count": null,
      "outputs": [
        {
          "output_type": "execute_result",
          "data": {
            "text/plain": [
              "('tappu, sonu,goli,pinku',)"
            ]
          },
          "metadata": {},
          "execution_count": 6
        }
      ]
    },
    {
      "cell_type": "markdown",
      "source": [
        "Keyword Arguments-\n",
        "\n",
        "You can also send arguments with the key = value syntax.\n",
        "\n",
        "This way the order of the arguments does not matter."
      ],
      "metadata": {
        "id": "X482KZKn_e3Y"
      }
    },
    {
      "cell_type": "code",
      "source": [
        "def my_function(child3, child2, child1):\n",
        "  print(\"The youngest child is \" + child3)\n",
        "\n",
        "my_function(child1 = \"golu\", child2 = \"shannu\", child3 = \"durgesh\")"
      ],
      "metadata": {
        "colab": {
          "base_uri": "https://localhost:8080/"
        },
        "id": "lZlTUVEjFmpv",
        "outputId": "fc5daab2-c930-4086-81dd-ba44e17db522"
      },
      "execution_count": null,
      "outputs": [
        {
          "output_type": "stream",
          "name": "stdout",
          "text": [
            "The youngest child is durgesh\n"
          ]
        }
      ]
    },
    {
      "cell_type": "markdown",
      "source": [
        "Arbitrary Keyword Argument - **kwargs\n",
        "\n",
        "If you do not know how many keyword arguments that will be passed into your function, add two asterisk: ** before the parameter name in the function definition.\n",
        "\n",
        "This way the function will receive a dictionary of arguments, and can access the items accordingly:"
      ],
      "metadata": {
        "id": "BXG2LTj0F7ZR"
      }
    },
    {
      "cell_type": "code",
      "source": [
        "#Example\n",
        "#If the number of keyword arguments is unknown, add a double ** before the parameter name:\n",
        "\n",
        "def my_function(**kid):\n",
        "  print(\"His last name is \" + kid[\"lname\"])\n",
        "\n",
        "my_function(fname = \"akaay\", lname = \"kohli\")"
      ],
      "metadata": {
        "colab": {
          "base_uri": "https://localhost:8080/"
        },
        "id": "QQALq2wLGFET",
        "outputId": "18a07333-8ca6-462e-e8eb-d273fe5e5c83"
      },
      "execution_count": null,
      "outputs": [
        {
          "output_type": "stream",
          "name": "stdout",
          "text": [
            "His last name is kohli\n"
          ]
        }
      ]
    },
    {
      "cell_type": "markdown",
      "source": [
        "Default Parameter Value -\n",
        "\n",
        "The following example shows how to use a default parameter value.\n",
        "\n",
        "If we call the function without argument, it uses the default value:"
      ],
      "metadata": {
        "id": "Ka6Uvbg3HBD4"
      }
    },
    {
      "cell_type": "code",
      "source": [
        "#example\n",
        "def visited_countries(country = \"china\"):\n",
        "  print(\"visited countries \" + country)\n",
        "\n",
        "visited_countries(\"Sweden\")\n",
        "visited_countries(\"bangkok\")\n",
        "visited_countries()\n",
        "visited_countries(\"Brazil\")"
      ],
      "metadata": {
        "colab": {
          "base_uri": "https://localhost:8080/"
        },
        "id": "wRhpYZfIHDj_",
        "outputId": "93629bba-3ef6-4929-896f-e7b09e85528f"
      },
      "execution_count": null,
      "outputs": [
        {
          "output_type": "stream",
          "name": "stdout",
          "text": [
            "visited countries Sweden\n",
            "visited countries bangkok\n",
            "visited countries china\n",
            "visited countries Brazil\n"
          ]
        }
      ]
    },
    {
      "cell_type": "markdown",
      "source": [
        "Q4 . What is the purpose of the `return` statement in a Python function?"
      ],
      "metadata": {
        "id": "GIIglF1EHySu"
      }
    },
    {
      "cell_type": "markdown",
      "source": [
        "ANS-The output of a function,whatever you want to return.A return statement is used to end the execution of the function call and “returns” the result (value of the expression following the return keyword) to the caller. The statements after the return statements are not executed. If the return statement is without any expression, then the special value None is returned. A return statement is overall used to invoke a function so that the passed statements can be executed."
      ],
      "metadata": {
        "id": "uomjoFlSItnA"
      }
    },
    {
      "cell_type": "code",
      "source": [
        "def add(a, b):\n",
        "\n",
        "    # returning sum of a and b\n",
        "    return a + b\n",
        "\n",
        "def is_true(a):\n",
        "\n",
        "    # returning boolean of a\n",
        "    return bool(a)\n",
        "\n",
        "# calling function\n",
        "res = add(2, 3)\n",
        "print(\"Result of add function is {}\".format(res))\n",
        "\n",
        "res = is_true(2<5)\n",
        "print(\"\\nResult of is_true function is {}\".format(res))"
      ],
      "metadata": {
        "colab": {
          "base_uri": "https://localhost:8080/"
        },
        "id": "F1R5LAVZJZUa",
        "outputId": "06f5f0cc-2922-40de-95d5-e56de05f6fd2"
      },
      "execution_count": null,
      "outputs": [
        {
          "output_type": "stream",
          "name": "stdout",
          "text": [
            "Result of add function is 5\n",
            "\n",
            "Result of is_true function is True\n"
          ]
        }
      ]
    },
    {
      "cell_type": "markdown",
      "source": [
        "Q5  What are iterators in Python and how do they differ from iterables ?"
      ],
      "metadata": {
        "id": "bwbRpcwNJ6fX"
      }
    },
    {
      "cell_type": "markdown",
      "source": [
        "ANS -ITRETORS -\n",
        "\n",
        " An iterators is an object representing a stream of data and the work of it is to return the data one by one\n"
      ],
      "metadata": {
        "id": "3xQ0Zs3sKnql"
      }
    },
    {
      "cell_type": "code",
      "source": [
        "#example -\n",
        "y =\"yash shk\"\n",
        "for i in y :\n",
        "  print(i)"
      ],
      "metadata": {
        "colab": {
          "base_uri": "https://localhost:8080/"
        },
        "id": "F-GHypze5zMC",
        "outputId": "ac9ace59-2994-46d5-fff4-c26d77e4d8b5"
      },
      "execution_count": null,
      "outputs": [
        {
          "output_type": "stream",
          "name": "stdout",
          "text": [
            "y\n",
            "a\n",
            "s\n",
            "h\n",
            " \n",
            "s\n",
            "h\n",
            "k\n"
          ]
        }
      ]
    },
    {
      "cell_type": "markdown",
      "source": [
        "now, how python decides that y should be iterated than, comes the concept of iterator,\n",
        "\n",
        "python will say that can i prepare y for iteration and to do so python ha a keyword \"iter\" , so that (iter(y)) is our iterator object and ready to be iterated\n"
      ],
      "metadata": {
        "id": "X1suIARD6PEq"
      }
    },
    {
      "cell_type": "code",
      "source": [
        "a = iter(y)"
      ],
      "metadata": {
        "id": "l5slL-zG7Rty"
      },
      "execution_count": null,
      "outputs": []
    },
    {
      "cell_type": "code",
      "source": [
        "a"
      ],
      "metadata": {
        "colab": {
          "base_uri": "https://localhost:8080/"
        },
        "id": "2fwGuCZ87WS5",
        "outputId": "35055194-0a4b-47a7-a1a1-f04f992ab5aa"
      },
      "execution_count": null,
      "outputs": [
        {
          "output_type": "execute_result",
          "data": {
            "text/plain": [
              "<str_iterator at 0x7b8a7f9dd7b0>"
            ]
          },
          "metadata": {},
          "execution_count": 3
        }
      ]
    },
    {
      "cell_type": "code",
      "source": [
        "next(a)"
      ],
      "metadata": {
        "colab": {
          "base_uri": "https://localhost:8080/",
          "height": 36
        },
        "id": "YXrdB83f7XvZ",
        "outputId": "a794b7ac-5445-4f1d-dd73-7dd9a569e000"
      },
      "execution_count": null,
      "outputs": [
        {
          "output_type": "execute_result",
          "data": {
            "text/plain": [
              "'y'"
            ],
            "application/vnd.google.colaboratory.intrinsic+json": {
              "type": "string"
            }
          },
          "metadata": {},
          "execution_count": 4
        }
      ]
    },
    {
      "cell_type": "code",
      "source": [
        "next(a)"
      ],
      "metadata": {
        "colab": {
          "base_uri": "https://localhost:8080/",
          "height": 36
        },
        "id": "aJa2C21P7aJD",
        "outputId": "fb9897a7-f43f-424b-ad1b-51076a4fc7c4"
      },
      "execution_count": null,
      "outputs": [
        {
          "output_type": "execute_result",
          "data": {
            "text/plain": [
              "'a'"
            ],
            "application/vnd.google.colaboratory.intrinsic+json": {
              "type": "string"
            }
          },
          "metadata": {},
          "execution_count": 5
        }
      ]
    },
    {
      "cell_type": "code",
      "source": [
        "next(a)"
      ],
      "metadata": {
        "colab": {
          "base_uri": "https://localhost:8080/",
          "height": 36
        },
        "id": "1R7e0j427m-M",
        "outputId": "580f406e-1c1a-4f89-ba3b-69f8aff8d8f6"
      },
      "execution_count": null,
      "outputs": [
        {
          "output_type": "execute_result",
          "data": {
            "text/plain": [
              "'s'"
            ],
            "application/vnd.google.colaboratory.intrinsic+json": {
              "type": "string"
            }
          },
          "metadata": {},
          "execution_count": 6
        }
      ]
    },
    {
      "cell_type": "code",
      "source": [
        "next(a)"
      ],
      "metadata": {
        "colab": {
          "base_uri": "https://localhost:8080/",
          "height": 36
        },
        "id": "LaVqWflr7o1M",
        "outputId": "b0c29d54-1ccf-42f7-db32-90236d169a59"
      },
      "execution_count": null,
      "outputs": [
        {
          "output_type": "execute_result",
          "data": {
            "text/plain": [
              "'h'"
            ],
            "application/vnd.google.colaboratory.intrinsic+json": {
              "type": "string"
            }
          },
          "metadata": {},
          "execution_count": 7
        }
      ]
    },
    {
      "cell_type": "code",
      "source": [
        "next(a)"
      ],
      "metadata": {
        "colab": {
          "base_uri": "https://localhost:8080/",
          "height": 36
        },
        "id": "dbMWqBgV7qBN",
        "outputId": "8d00dcea-b5ac-486c-b8d2-cf38963fdfbc"
      },
      "execution_count": null,
      "outputs": [
        {
          "output_type": "execute_result",
          "data": {
            "text/plain": [
              "' '"
            ],
            "application/vnd.google.colaboratory.intrinsic+json": {
              "type": "string"
            }
          },
          "metadata": {},
          "execution_count": 8
        }
      ]
    },
    {
      "cell_type": "code",
      "source": [
        "next(a)"
      ],
      "metadata": {
        "colab": {
          "base_uri": "https://localhost:8080/",
          "height": 36
        },
        "id": "L9KdX59n7rYY",
        "outputId": "d619084e-95c8-499e-e86c-562aef5ac602"
      },
      "execution_count": null,
      "outputs": [
        {
          "output_type": "execute_result",
          "data": {
            "text/plain": [
              "'s'"
            ],
            "application/vnd.google.colaboratory.intrinsic+json": {
              "type": "string"
            }
          },
          "metadata": {},
          "execution_count": 9
        }
      ]
    },
    {
      "cell_type": "code",
      "source": [
        "next(a)"
      ],
      "metadata": {
        "colab": {
          "base_uri": "https://localhost:8080/",
          "height": 36
        },
        "id": "lTW05vb97vXp",
        "outputId": "b79c6398-45ea-4d17-942f-9ec375ece4ac"
      },
      "execution_count": null,
      "outputs": [
        {
          "output_type": "execute_result",
          "data": {
            "text/plain": [
              "'h'"
            ],
            "application/vnd.google.colaboratory.intrinsic+json": {
              "type": "string"
            }
          },
          "metadata": {},
          "execution_count": 10
        }
      ]
    },
    {
      "cell_type": "code",
      "source": [
        "next(a)"
      ],
      "metadata": {
        "colab": {
          "base_uri": "https://localhost:8080/",
          "height": 36
        },
        "id": "IIh9AJ4f7w_A",
        "outputId": "12244566-c5ae-4d35-9d51-b5ffbce3c1aa"
      },
      "execution_count": null,
      "outputs": [
        {
          "output_type": "execute_result",
          "data": {
            "text/plain": [
              "'k'"
            ],
            "application/vnd.google.colaboratory.intrinsic+json": {
              "type": "string"
            }
          },
          "metadata": {},
          "execution_count": 11
        }
      ]
    },
    {
      "cell_type": "markdown",
      "source": [
        "while, an iterable is any python object/sequential/data structure that is capable of returning its members one ata atime permeting it to be iterated over in a loop examples- list,tuples,string etc."
      ],
      "metadata": {
        "id": "vnvTJ2B-8AUO"
      }
    },
    {
      "cell_type": "code",
      "source": [
        "y = \"yash shk\"\n",
        "for i in y:\n",
        "  print(i)"
      ],
      "metadata": {
        "colab": {
          "base_uri": "https://localhost:8080/"
        },
        "id": "QWcuaZU28mPC",
        "outputId": "cf13931a-7157-4259-b844-ff7f02c9fb03"
      },
      "execution_count": null,
      "outputs": [
        {
          "output_type": "stream",
          "name": "stdout",
          "text": [
            "y\n",
            "a\n",
            "s\n",
            "h\n",
            " \n",
            "s\n",
            "h\n",
            "k\n"
          ]
        }
      ]
    },
    {
      "cell_type": "markdown",
      "source": [
        "Q6 Explain the concept of generators in Python and how they are defined. ?"
      ],
      "metadata": {
        "id": "Uf9Oo_Ue81qg"
      }
    },
    {
      "cell_type": "markdown",
      "source": [
        "ANS -GENERATORS -\n",
        "\n",
        "Generators in Python are a simple way to create iterators using a function, which is capable of yielding multiple times in its execution, producing a sequence of results instead of a single value. They are written like regular functions but use the yield statement whenever they want to return data. Each yield temporarily suspends processing, remembering the location execution state (including local variables and pending try-statements). When the generator resumes, it picks up where it left off (in contrast to functions which start fresh on every invocation)."
      ],
      "metadata": {
        "id": "M7C8-aNv9WX9"
      }
    },
    {
      "cell_type": "code",
      "source": [
        "def square_number(n):\n",
        "  for i in range (n):\n",
        "    yield i**2"
      ],
      "metadata": {
        "id": "i9X6YB029v4E"
      },
      "execution_count": null,
      "outputs": []
    },
    {
      "cell_type": "code",
      "source": [
        "t = square_number(5)"
      ],
      "metadata": {
        "id": "2rajWJlT-REm"
      },
      "execution_count": null,
      "outputs": []
    },
    {
      "cell_type": "code",
      "source": [
        "next(t)"
      ],
      "metadata": {
        "colab": {
          "base_uri": "https://localhost:8080/"
        },
        "id": "e4hvhxYhBsOc",
        "outputId": "01c9387c-8442-476c-deb4-f6211dd0dc25"
      },
      "execution_count": null,
      "outputs": [
        {
          "output_type": "execute_result",
          "data": {
            "text/plain": [
              "0"
            ]
          },
          "metadata": {},
          "execution_count": 35
        }
      ]
    },
    {
      "cell_type": "code",
      "source": [
        "next"
      ],
      "metadata": {
        "id": "kAxaWmrMBDCc"
      },
      "execution_count": null,
      "outputs": []
    },
    {
      "cell_type": "code",
      "source": [
        "next(t)"
      ],
      "metadata": {
        "colab": {
          "base_uri": "https://localhost:8080/"
        },
        "id": "7dvCUNdCBzZ4",
        "outputId": "f09869a5-03ef-421e-815c-4b9b0bf905c7"
      },
      "execution_count": null,
      "outputs": [
        {
          "output_type": "execute_result",
          "data": {
            "text/plain": [
              "1"
            ]
          },
          "metadata": {},
          "execution_count": 36
        }
      ]
    },
    {
      "cell_type": "code",
      "source": [
        "next(t)"
      ],
      "metadata": {
        "colab": {
          "base_uri": "https://localhost:8080/"
        },
        "id": "v5WjZoBCBzz3",
        "outputId": "df082e17-c5b9-4e44-9a98-dcf21d6000af"
      },
      "execution_count": null,
      "outputs": [
        {
          "output_type": "execute_result",
          "data": {
            "text/plain": [
              "4"
            ]
          },
          "metadata": {},
          "execution_count": 37
        }
      ]
    },
    {
      "cell_type": "code",
      "source": [
        "next(t)"
      ],
      "metadata": {
        "colab": {
          "base_uri": "https://localhost:8080/"
        },
        "id": "dfYk72Y5Bz62",
        "outputId": "85ec9cf2-4454-49de-cf14-b4b9ad6e2e50"
      },
      "execution_count": null,
      "outputs": [
        {
          "output_type": "execute_result",
          "data": {
            "text/plain": [
              "9"
            ]
          },
          "metadata": {},
          "execution_count": 38
        }
      ]
    },
    {
      "cell_type": "code",
      "source": [
        "next(t)"
      ],
      "metadata": {
        "colab": {
          "base_uri": "https://localhost:8080/"
        },
        "id": "Q-48RxSyBz90",
        "outputId": "815d8427-a21c-48da-92bc-09157c733c57"
      },
      "execution_count": null,
      "outputs": [
        {
          "output_type": "execute_result",
          "data": {
            "text/plain": [
              "16"
            ]
          },
          "metadata": {},
          "execution_count": 39
        }
      ]
    },
    {
      "cell_type": "code",
      "source": [
        "#USING GENERATORS FIBONACCI SERIES -\n",
        "def fib(y):\n",
        "  a = 0\n",
        "  b = 1\n",
        "  for i in range(y):\n",
        "    yield a\n",
        "    a,b=b,a+b\n"
      ],
      "metadata": {
        "id": "iqUBNNAiAXaU"
      },
      "execution_count": null,
      "outputs": []
    },
    {
      "cell_type": "code",
      "source": [
        "f = fib(1000)"
      ],
      "metadata": {
        "id": "INe5jeAkAxCo"
      },
      "execution_count": null,
      "outputs": []
    },
    {
      "cell_type": "code",
      "source": [
        "next(f)"
      ],
      "metadata": {
        "colab": {
          "base_uri": "https://localhost:8080/"
        },
        "id": "mglLyFwACsnT",
        "outputId": "9c2ba734-3cce-4fb9-a060-c8644f7dabef"
      },
      "execution_count": null,
      "outputs": [
        {
          "output_type": "execute_result",
          "data": {
            "text/plain": [
              "0"
            ]
          },
          "metadata": {},
          "execution_count": 43
        }
      ]
    },
    {
      "cell_type": "code",
      "source": [
        "next(f)"
      ],
      "metadata": {
        "colab": {
          "base_uri": "https://localhost:8080/"
        },
        "id": "F4kJds0rCu34",
        "outputId": "f1b007d5-8a51-42d9-bfe6-f68189a2c656"
      },
      "execution_count": null,
      "outputs": [
        {
          "output_type": "execute_result",
          "data": {
            "text/plain": [
              "1"
            ]
          },
          "metadata": {},
          "execution_count": 44
        }
      ]
    },
    {
      "cell_type": "code",
      "source": [
        "next(f)"
      ],
      "metadata": {
        "colab": {
          "base_uri": "https://localhost:8080/"
        },
        "id": "HmGISjjECwud",
        "outputId": "2532968c-8015-4a07-aa5e-955c31b3d81b"
      },
      "execution_count": null,
      "outputs": [
        {
          "output_type": "execute_result",
          "data": {
            "text/plain": [
              "1"
            ]
          },
          "metadata": {},
          "execution_count": 45
        }
      ]
    },
    {
      "cell_type": "code",
      "source": [
        "next(f)"
      ],
      "metadata": {
        "colab": {
          "base_uri": "https://localhost:8080/"
        },
        "id": "K3NZTboBCyaJ",
        "outputId": "c889bb1a-571f-4988-f210-65f86431f336"
      },
      "execution_count": null,
      "outputs": [
        {
          "output_type": "execute_result",
          "data": {
            "text/plain": [
              "2"
            ]
          },
          "metadata": {},
          "execution_count": 46
        }
      ]
    },
    {
      "cell_type": "code",
      "source": [
        "#and so on till 1000"
      ],
      "metadata": {
        "id": "NUg2vXxwC0R7"
      },
      "execution_count": null,
      "outputs": []
    },
    {
      "cell_type": "markdown",
      "source": [
        "Q7 What are the advantages of using generators over regular functions?"
      ],
      "metadata": {
        "id": "fEiQC4DYDBeC"
      }
    },
    {
      "cell_type": "markdown",
      "source": [
        "ANS- Advantages of using generators over regular functions include-\n",
        "\n",
        "1) Improved performance efficiency.\n",
        "\n",
        "2) Better memory management.\n",
        "\n",
        "3) Ability to handle large and infinite data sets.\n",
        "\n",
        "4) Lazy evaluation: Generators compute and yield one value at a time, reducing\n",
        "  memory usage.\n",
        "  \n",
        "5) Generators provide a cleaner and more readable code structure compared to traditional for loops"
      ],
      "metadata": {
        "id": "5F9uZNpwD0kj"
      }
    },
    {
      "cell_type": "code",
      "source": [
        "#example of regular function-\n",
        "def addition(a, b):\n",
        "  return a+b"
      ],
      "metadata": {
        "id": "gadJNFS9EVLn"
      },
      "execution_count": null,
      "outputs": []
    },
    {
      "cell_type": "code",
      "source": [
        "addition(34, 45)"
      ],
      "metadata": {
        "colab": {
          "base_uri": "https://localhost:8080/"
        },
        "id": "qH8WiKuWFYxK",
        "outputId": "d36faa66-8d45-4584-abc0-3a3c11d9982b"
      },
      "execution_count": null,
      "outputs": [
        {
          "output_type": "execute_result",
          "data": {
            "text/plain": [
              "79"
            ]
          },
          "metadata": {},
          "execution_count": 52
        }
      ]
    },
    {
      "cell_type": "code",
      "source": [
        "#example of generator function-\n",
        "def square_number(l):\n",
        "  result=[]\n",
        "  for i in l:\n",
        "    result.append(i**2)\n",
        "    return result"
      ],
      "metadata": {
        "id": "gDTuuvc0Fh7X"
      },
      "execution_count": null,
      "outputs": []
    },
    {
      "cell_type": "code",
      "source": [
        "square_number([5])"
      ],
      "metadata": {
        "colab": {
          "base_uri": "https://localhost:8080/"
        },
        "id": "KX9mCjskGL9w",
        "outputId": "7f9afc4a-342d-4f0b-9b1e-87c0d22de131"
      },
      "execution_count": null,
      "outputs": [
        {
          "output_type": "execute_result",
          "data": {
            "text/plain": [
              "[25]"
            ]
          },
          "metadata": {},
          "execution_count": 56
        }
      ]
    },
    {
      "cell_type": "code",
      "source": [
        "square_number([67])"
      ],
      "metadata": {
        "colab": {
          "base_uri": "https://localhost:8080/"
        },
        "id": "eIUtX89_GShE",
        "outputId": "f82c297a-99bd-4262-9d45-19cf07f9a403"
      },
      "execution_count": null,
      "outputs": [
        {
          "output_type": "execute_result",
          "data": {
            "text/plain": [
              "[4489]"
            ]
          },
          "metadata": {},
          "execution_count": 58
        }
      ]
    },
    {
      "cell_type": "markdown",
      "source": [
        "Q8  What is a lambda function in Python and when is it typically used ?"
      ],
      "metadata": {
        "id": "5Pm9Gtf9m9aO"
      }
    },
    {
      "cell_type": "markdown",
      "source": [
        "ANS- Lambda functions, also known as anonymous functions, are a feature in Python that allows the creation of small, one-expression functions without a name. They are defined using the lambda keyword, which is why they are often referred to as \"lambda function"
      ],
      "metadata": {
        "id": "b2jkKWPJna1B"
      }
    },
    {
      "cell_type": "code",
      "source": [
        "#The basic syntax of a lambda function is quite simple:\n",
        "\n",
        "lambda arguments: expression"
      ],
      "metadata": {
        "colab": {
          "base_uri": "https://localhost:8080/"
        },
        "id": "OZpq8BrcngcA",
        "outputId": "6bebd814-ca15-4a0c-bbf5-950a995e3a65"
      },
      "execution_count": null,
      "outputs": [
        {
          "output_type": "execute_result",
          "data": {
            "text/plain": [
              "<function __main__.<lambda>(arguments)>"
            ]
          },
          "metadata": {},
          "execution_count": 1
        }
      ]
    },
    {
      "cell_type": "markdown",
      "source": [
        "This syntax allows lambda functions to take any number of arguments, but they can only have one expression. The expression is executed when the function is called, and its result is returned. Here's a basic example:"
      ],
      "metadata": {
        "id": "prRQgF8jnw-D"
      }
    },
    {
      "cell_type": "code",
      "source": [
        "add_ten = lambda a: a + 10\n",
        "print(add_ten(5))"
      ],
      "metadata": {
        "colab": {
          "base_uri": "https://localhost:8080/"
        },
        "id": "Yerj-drkny5q",
        "outputId": "fc32b5c7-1ebb-4a28-93a2-e5b15321b36b"
      },
      "execution_count": null,
      "outputs": [
        {
          "output_type": "stream",
          "name": "stdout",
          "text": [
            "15\n"
          ]
        }
      ]
    },
    {
      "cell_type": "markdown",
      "source": [
        "1) Comparison with Regular Functions\n",
        "\n",
        "Lambda functions differ from regular functions defined with the def keyword in several ways:\n",
        "\n",
        "A) They can only contain expressions, not statements.\n",
        "\n",
        "B) They are written as a single line of execution.\n",
        "\n",
        "C) They do not support type annotations.\n",
        "\n",
        "D) They can be immediately invoked (IIFE - Immediately Invoked Function Expression)."
      ],
      "metadata": {
        "id": "5noEqP2yn-BR"
      }
    },
    {
      "cell_type": "markdown",
      "source": [
        "2) Use Cases for Lambda Functions\n",
        "\n",
        "Lambda functions are particularly useful when you need a simple function for a short period and when function objects are required. They are commonly used with higher-order functions like map(), filter(), and sorted(). For example, to sort a list of strings by their integer values, you could use:"
      ],
      "metadata": {
        "id": "4lEv_OPAobc1"
      }
    },
    {
      "cell_type": "code",
      "source": [
        "ids = ['id1', 'id2', 'id30', 'id3', 'id22', 'id100']\n",
        "sorted_ids = sorted(ids, key=lambda x: int(x[2:]))\n",
        "print(sorted_ids)"
      ],
      "metadata": {
        "colab": {
          "base_uri": "https://localhost:8080/"
        },
        "id": "6sEfUH98oeMB",
        "outputId": "77609420-78ed-4719-88e8-a590e574f65b"
      },
      "execution_count": null,
      "outputs": [
        {
          "output_type": "stream",
          "name": "stdout",
          "text": [
            "['id1', 'id2', 'id3', 'id22', 'id30', 'id100']\n"
          ]
        }
      ]
    },
    {
      "cell_type": "markdown",
      "source": [
        "3) imitations and Considerations\n",
        "\n",
        "A) While lambda functions are a powerful feature, they come with limitations that affect readability and functionality:\n",
        "\n",
        "B) They are limited to a single expression, which can make them less readable when used for complex operations.\n",
        "\n",
        "C) They do not have a name, which can make debugging harder as tracebacks will only show <lambda>.\n",
        "\n",
        "D) They should not be overused, especially when a regular function would be more appropriate and readable."
      ],
      "metadata": {
        "id": "cnrZNS6Xovov"
      }
    },
    {
      "cell_type": "code",
      "source": [
        "#Example 1: Simple Lambda Function\n",
        "\n",
        "#A lambda function that checks if a number is even or odd\n",
        "check_even_odd = lambda num: \"Even number\" if num % 2 == 0 else \"Odd number\"\n",
        "print(check_even_odd(4))"
      ],
      "metadata": {
        "colab": {
          "base_uri": "https://localhost:8080/"
        },
        "id": "6USJwbMzo7bk",
        "outputId": "8a93c5f0-a362-4c90-9e98-05f70bf077e1"
      },
      "execution_count": null,
      "outputs": [
        {
          "output_type": "stream",
          "name": "stdout",
          "text": [
            "Even number\n"
          ]
        }
      ]
    },
    {
      "cell_type": "code",
      "source": [
        "#Example 2: Lambda with Map\n",
        "\n",
        "# Using lambda with map to add 10 to each element in a list\n",
        "my_list = [1, 2, 3, 4, 5]\n",
        "new_list = list(map(lambda x: x + 10, my_list))\n",
        "print(new_list)"
      ],
      "metadata": {
        "colab": {
          "base_uri": "https://localhost:8080/"
        },
        "id": "pZ2rR0YHpIFg",
        "outputId": "e5f1c535-58b8-4d55-9375-f672b00651a8"
      },
      "execution_count": null,
      "outputs": [
        {
          "output_type": "stream",
          "name": "stdout",
          "text": [
            "[11, 12, 13, 14, 15]\n"
          ]
        }
      ]
    },
    {
      "cell_type": "code",
      "source": [
        "#Example 3: Lambda with Filter\n",
        "\n",
        "# Using lambda with filter to extract odd numbers from a list\n",
        "new_list = list(filter(lambda x: x % 2 != 0, my_list))\n",
        "print(new_list)"
      ],
      "metadata": {
        "colab": {
          "base_uri": "https://localhost:8080/"
        },
        "id": "YPqWvAFqpOM8",
        "outputId": "504d9851-897c-451b-9967-89ccb531035c"
      },
      "execution_count": null,
      "outputs": [
        {
          "output_type": "stream",
          "name": "stdout",
          "text": [
            "[1, 3, 5]\n"
          ]
        }
      ]
    },
    {
      "cell_type": "markdown",
      "source": [
        "In conclusion, lambda functions are a concise way to create small functions in Python. They are best used for simple operations and should be avoided for complex logic that would compromise code readability. Understanding when and how to use lambda functions effectively can lead to cleaner and more efficient Python code."
      ],
      "metadata": {
        "id": "FagYBq8rpYbl"
      }
    },
    {
      "cell_type": "markdown",
      "source": [
        "Q9 Explain the purpose and usage of the `map()` function in Python."
      ],
      "metadata": {
        "id": "IMOrDiRRpgHC"
      }
    },
    {
      "cell_type": "markdown",
      "source": [
        "ANS- The map() function in Python is a built-in function that allows you to apply a specified function to each item in an iterable (like a list, tuple, etc.) and returns a map object (which is an iterator) containing the results.\n",
        "\n",
        "Purpose-\n",
        "\n",
        "The primary purpose of the map() function is to transform data by applying a function to each element of an iterable. This is particularly useful for tasks like data processing, where you need to perform the same operation on multiple elements.\n",
        "\n",
        "Usage-\n",
        "\n",
        "Here’s the basic syntax of the map() function:\n",
        "\n",
        "map(function, iterable, ...)\n",
        "\n",
        "function: The function to apply to each item.\n",
        "\n",
        "iterable: One or more iterables whose elements you want to process."
      ],
      "metadata": {
        "id": "G1fwdrcAp8D5"
      }
    },
    {
      "cell_type": "code",
      "source": [
        "def square(x):\n",
        "    return x * x\n",
        "\n",
        "numbers = [1, 2, 3, 4]\n",
        "result = map(square, numbers)\n",
        "print(list(result))"
      ],
      "metadata": {
        "colab": {
          "base_uri": "https://localhost:8080/"
        },
        "id": "WJPmJs6zqaiB",
        "outputId": "e40da8aa-3804-4ced-f0c3-44c65aa474cf"
      },
      "execution_count": null,
      "outputs": [
        {
          "output_type": "stream",
          "name": "stdout",
          "text": [
            "[1, 4, 9, 16]\n"
          ]
        }
      ]
    },
    {
      "cell_type": "markdown",
      "source": [
        "Q10 What is the difference between `map()`, `reduce()`, and `filter()` functions in Python?"
      ],
      "metadata": {
        "id": "_014WGlWqtVR"
      }
    },
    {
      "cell_type": "markdown",
      "source": [
        "ANS- 1) map():\n",
        "\n",
        "Purpose: Applies a given function to all items in an iterable (like a list) and returns a map object (which is an iterator).\n",
        "\n",
        "Syntax: map(function, iterable, ...)"
      ],
      "metadata": {
        "id": "bSDlr-uWq_eV"
      }
    },
    {
      "cell_type": "code",
      "source": [
        "#Example-\n",
        "def square(x):\n",
        "    return x * x\n",
        "\n",
        "numbers = [1, 2, 3, 4]\n",
        "result = map(square, numbers)\n",
        "print(list(result))"
      ],
      "metadata": {
        "colab": {
          "base_uri": "https://localhost:8080/"
        },
        "id": "PLOMxEEBrVR9",
        "outputId": "234c7c1a-ba89-4d06-acc3-4e54276d0f86"
      },
      "execution_count": null,
      "outputs": [
        {
          "output_type": "stream",
          "name": "stdout",
          "text": [
            "[1, 4, 9, 16]\n"
          ]
        }
      ]
    },
    {
      "cell_type": "markdown",
      "source": [
        "2) reduce():\n",
        "\n",
        "Purpose: Applies a given function cumulatively to the items of an iterable, from left to right, so as to reduce the iterable to a single value. It is part of the functools module.\n",
        "\n",
        "Syntax: reduce(function, iterable[, initializer])"
      ],
      "metadata": {
        "id": "uGluqkEzriTJ"
      }
    },
    {
      "cell_type": "code",
      "source": [
        "#Examples-\n",
        "from functools import reduce\n",
        "\n",
        "def add(x, y):\n",
        "    return x + y\n",
        "\n",
        "numbers = [1, 2, 3, 4]\n",
        "result = reduce(add, numbers)\n",
        "print(result)"
      ],
      "metadata": {
        "colab": {
          "base_uri": "https://localhost:8080/"
        },
        "id": "rULftt02rl-V",
        "outputId": "824a8c13-a5f9-4e82-db73-733a08efb7ae"
      },
      "execution_count": null,
      "outputs": [
        {
          "output_type": "stream",
          "name": "stdout",
          "text": [
            "10\n"
          ]
        }
      ]
    },
    {
      "cell_type": "markdown",
      "source": [
        "3) filter():\n",
        "\n",
        "Purpose: Constructs an iterator from elements of an iterable for which a function returns true.\n",
        "\n",
        "Syntax: filter(function, iterable)"
      ],
      "metadata": {
        "id": "tszP_ee7r3VH"
      }
    },
    {
      "cell_type": "code",
      "source": [
        "def is_even(x):\n",
        "    return x % 2 == 0\n",
        "\n",
        "numbers = [1, 2, 3, 4, 5, 6]\n",
        "result = filter(is_even, numbers)\n",
        "print(list(result))"
      ],
      "metadata": {
        "colab": {
          "base_uri": "https://localhost:8080/"
        },
        "id": "Mzkqdyfer8wL",
        "outputId": "942c52c9-0a42-40bd-a625-2d6634c8d071"
      },
      "execution_count": null,
      "outputs": [
        {
          "output_type": "stream",
          "name": "stdout",
          "text": [
            "[2, 4, 6]\n"
          ]
        }
      ]
    },
    {
      "cell_type": "markdown",
      "source": [
        "These functions are powerful tools for functional programming in Python, allowing for concise and readable code"
      ],
      "metadata": {
        "id": "yEyLoNZ1sQJB"
      }
    },
    {
      "cell_type": "code",
      "source": [
        "numbers = [47, 11, 42, 13]\n",
        "\n",
        "# Define the sum function\n",
        "def sum_function(x, y):\n",
        "    return x + y\n",
        "\n",
        "# Use reduce to apply the sum function to the list\n",
        "result = reduce(sum_function, numbers)\n",
        "\n",
        "print(result)"
      ],
      "metadata": {
        "colab": {
          "base_uri": "https://localhost:8080/"
        },
        "id": "CiZybSOMuj0S",
        "outputId": "0f702c15-4380-457e-8680-01e3bd22b47d"
      },
      "execution_count": null,
      "outputs": [
        {
          "output_type": "stream",
          "name": "stdout",
          "text": [
            "113\n"
          ]
        }
      ]
    },
    {
      "cell_type": "markdown",
      "source": [
        "Q11  paper image for this answer is attached in docs"
      ],
      "metadata": {
        "id": "cMPyfc6H5-i6"
      }
    },
    {
      "cell_type": "markdown",
      "source": [
        "**PRACTICAL QUESTIONS**"
      ],
      "metadata": {
        "id": "PnzyMFGD2NU-"
      }
    },
    {
      "cell_type": "markdown",
      "source": [
        "Q1  Write a Python function that takes a list of numbers as input and returns the sum of all even numbers in\n",
        "the list ?"
      ],
      "metadata": {
        "id": "bF6aklPn2hnU"
      }
    },
    {
      "cell_type": "code",
      "source": [
        "def sum_of_even_numbers(numbers):\n",
        "    total = 0\n",
        "    for num in numbers:\n",
        "        if num % 2 == 0:\n",
        "            total += num\n",
        "    return total"
      ],
      "metadata": {
        "id": "GGxuVYrQ2kTe"
      },
      "execution_count": null,
      "outputs": []
    },
    {
      "cell_type": "code",
      "source": [
        "numbers = [1, 2, 5, 6,78, 305, 32, 56, 77]\n",
        "print(sum_of_even_numbers(numbers))"
      ],
      "metadata": {
        "colab": {
          "base_uri": "https://localhost:8080/"
        },
        "id": "M9Ung82b2-6d",
        "outputId": "cec934ef-c199-44aa-b537-3342c203d943"
      },
      "execution_count": null,
      "outputs": [
        {
          "output_type": "stream",
          "name": "stdout",
          "text": [
            "174\n"
          ]
        }
      ]
    },
    {
      "cell_type": "code",
      "source": [
        "numbers = [1, 34, 56, 76, 87, 67, 56, 89, 88, 32]\n",
        "print(sum_of_even_numbers(numbers))"
      ],
      "metadata": {
        "colab": {
          "base_uri": "https://localhost:8080/"
        },
        "id": "ii5gd8uC3dos",
        "outputId": "2c84bb41-119c-43eb-8d03-89ab9a77bbec"
      },
      "execution_count": null,
      "outputs": [
        {
          "output_type": "stream",
          "name": "stdout",
          "text": [
            "342\n"
          ]
        }
      ]
    },
    {
      "cell_type": "markdown",
      "source": [
        "Q2 Create a Python function that accepts a string and returns the reverse of that string ?"
      ],
      "metadata": {
        "id": "ew49N-ow4wFH"
      }
    },
    {
      "cell_type": "code",
      "source": [
        "def reverse_string(input_string):\n",
        "    return input_string[::-1]\n",
        "\n",
        "\n",
        "original_string = \"toh kese h aap sab log\"\n",
        "reversed_string = reverse_string(original_string)\n",
        "print(reversed_string)"
      ],
      "metadata": {
        "colab": {
          "base_uri": "https://localhost:8080/"
        },
        "id": "KDhrRhD76RX1",
        "outputId": "cb502b3b-da2e-4152-c351-f57d74bbb25a"
      },
      "execution_count": null,
      "outputs": [
        {
          "output_type": "stream",
          "name": "stdout",
          "text": [
            "gol bas paa h esek hot\n"
          ]
        }
      ]
    },
    {
      "cell_type": "code",
      "source": [
        "original_string = \"gol bas paa h esek hot\"\n",
        "reversed_string = reverse_string(original_string)\n",
        "print(reversed_string)"
      ],
      "metadata": {
        "colab": {
          "base_uri": "https://localhost:8080/"
        },
        "id": "iyqep89k6j8f",
        "outputId": "c277003d-bbac-44e7-ec07-7829d241f1de"
      },
      "execution_count": null,
      "outputs": [
        {
          "output_type": "stream",
          "name": "stdout",
          "text": [
            "toh kese h aap sab log\n"
          ]
        }
      ]
    },
    {
      "cell_type": "markdown",
      "source": [
        "Q3  Implement a Python function that takes a list of integers and returns a new list containing the squares of\n",
        "each number?"
      ],
      "metadata": {
        "id": "c_sgs-P97Foq"
      }
    },
    {
      "cell_type": "code",
      "source": [
        "def square_list(numbers):\n",
        "    return [x**2 for x in numbers]\n",
        "\n",
        "numbers = [1, 2, 3, 4, 5]\n",
        "squared_numbers = square_list(numbers)\n",
        "print(squared_numbers)"
      ],
      "metadata": {
        "colab": {
          "base_uri": "https://localhost:8080/"
        },
        "id": "PR9WVdlE7I4e",
        "outputId": "f4e8788f-99f8-4583-b22b-507d9202a601"
      },
      "execution_count": null,
      "outputs": [
        {
          "output_type": "stream",
          "name": "stdout",
          "text": [
            "[1, 4, 9, 16, 25]\n"
          ]
        }
      ]
    },
    {
      "cell_type": "code",
      "source": [
        "def square_list(numbers):\n",
        "    return [x**2 for x in numbers]\n",
        "\n",
        "numbers = [11, 29, 37, 74, 45]\n",
        "squared_numbers = square_list(numbers)\n",
        "print(squared_numbers)"
      ],
      "metadata": {
        "colab": {
          "base_uri": "https://localhost:8080/"
        },
        "id": "eAY9D4mF7K-O",
        "outputId": "9925f973-6e8a-4712-8273-60849fec6215"
      },
      "execution_count": null,
      "outputs": [
        {
          "output_type": "stream",
          "name": "stdout",
          "text": [
            "[121, 841, 1369, 5476, 2025]\n"
          ]
        }
      ]
    },
    {
      "cell_type": "markdown",
      "source": [
        "Q4 Write a Python function that checks if a given number is prime or not from 1 to 200?"
      ],
      "metadata": {
        "id": "NFXv3SrE7Zgv"
      }
    },
    {
      "cell_type": "code",
      "source": [
        "def is_prime(n):\n",
        "    if n <= 1:\n",
        "        return False\n",
        "    for i in range(2, int(n**0.5) + 1):\n",
        "        if n % i == 0:\n",
        "            return False\n",
        "    return True\n",
        "\n",
        "\n",
        "for num in range(1, 201):\n",
        "    print(f\"{num}: {'Prime' if is_prime(num) else 'Not Prime'}\")"
      ],
      "metadata": {
        "colab": {
          "base_uri": "https://localhost:8080/"
        },
        "id": "PbGjyLap7bjj",
        "outputId": "e3b91add-b277-4315-9d67-038f6e7408d9"
      },
      "execution_count": null,
      "outputs": [
        {
          "output_type": "stream",
          "name": "stdout",
          "text": [
            "1: Not Prime\n",
            "2: Prime\n",
            "3: Prime\n",
            "4: Not Prime\n",
            "5: Prime\n",
            "6: Not Prime\n",
            "7: Prime\n",
            "8: Not Prime\n",
            "9: Not Prime\n",
            "10: Not Prime\n",
            "11: Prime\n",
            "12: Not Prime\n",
            "13: Prime\n",
            "14: Not Prime\n",
            "15: Not Prime\n",
            "16: Not Prime\n",
            "17: Prime\n",
            "18: Not Prime\n",
            "19: Prime\n",
            "20: Not Prime\n",
            "21: Not Prime\n",
            "22: Not Prime\n",
            "23: Prime\n",
            "24: Not Prime\n",
            "25: Not Prime\n",
            "26: Not Prime\n",
            "27: Not Prime\n",
            "28: Not Prime\n",
            "29: Prime\n",
            "30: Not Prime\n",
            "31: Prime\n",
            "32: Not Prime\n",
            "33: Not Prime\n",
            "34: Not Prime\n",
            "35: Not Prime\n",
            "36: Not Prime\n",
            "37: Prime\n",
            "38: Not Prime\n",
            "39: Not Prime\n",
            "40: Not Prime\n",
            "41: Prime\n",
            "42: Not Prime\n",
            "43: Prime\n",
            "44: Not Prime\n",
            "45: Not Prime\n",
            "46: Not Prime\n",
            "47: Prime\n",
            "48: Not Prime\n",
            "49: Not Prime\n",
            "50: Not Prime\n",
            "51: Not Prime\n",
            "52: Not Prime\n",
            "53: Prime\n",
            "54: Not Prime\n",
            "55: Not Prime\n",
            "56: Not Prime\n",
            "57: Not Prime\n",
            "58: Not Prime\n",
            "59: Prime\n",
            "60: Not Prime\n",
            "61: Prime\n",
            "62: Not Prime\n",
            "63: Not Prime\n",
            "64: Not Prime\n",
            "65: Not Prime\n",
            "66: Not Prime\n",
            "67: Prime\n",
            "68: Not Prime\n",
            "69: Not Prime\n",
            "70: Not Prime\n",
            "71: Prime\n",
            "72: Not Prime\n",
            "73: Prime\n",
            "74: Not Prime\n",
            "75: Not Prime\n",
            "76: Not Prime\n",
            "77: Not Prime\n",
            "78: Not Prime\n",
            "79: Prime\n",
            "80: Not Prime\n",
            "81: Not Prime\n",
            "82: Not Prime\n",
            "83: Prime\n",
            "84: Not Prime\n",
            "85: Not Prime\n",
            "86: Not Prime\n",
            "87: Not Prime\n",
            "88: Not Prime\n",
            "89: Prime\n",
            "90: Not Prime\n",
            "91: Not Prime\n",
            "92: Not Prime\n",
            "93: Not Prime\n",
            "94: Not Prime\n",
            "95: Not Prime\n",
            "96: Not Prime\n",
            "97: Prime\n",
            "98: Not Prime\n",
            "99: Not Prime\n",
            "100: Not Prime\n",
            "101: Prime\n",
            "102: Not Prime\n",
            "103: Prime\n",
            "104: Not Prime\n",
            "105: Not Prime\n",
            "106: Not Prime\n",
            "107: Prime\n",
            "108: Not Prime\n",
            "109: Prime\n",
            "110: Not Prime\n",
            "111: Not Prime\n",
            "112: Not Prime\n",
            "113: Prime\n",
            "114: Not Prime\n",
            "115: Not Prime\n",
            "116: Not Prime\n",
            "117: Not Prime\n",
            "118: Not Prime\n",
            "119: Not Prime\n",
            "120: Not Prime\n",
            "121: Not Prime\n",
            "122: Not Prime\n",
            "123: Not Prime\n",
            "124: Not Prime\n",
            "125: Not Prime\n",
            "126: Not Prime\n",
            "127: Prime\n",
            "128: Not Prime\n",
            "129: Not Prime\n",
            "130: Not Prime\n",
            "131: Prime\n",
            "132: Not Prime\n",
            "133: Not Prime\n",
            "134: Not Prime\n",
            "135: Not Prime\n",
            "136: Not Prime\n",
            "137: Prime\n",
            "138: Not Prime\n",
            "139: Prime\n",
            "140: Not Prime\n",
            "141: Not Prime\n",
            "142: Not Prime\n",
            "143: Not Prime\n",
            "144: Not Prime\n",
            "145: Not Prime\n",
            "146: Not Prime\n",
            "147: Not Prime\n",
            "148: Not Prime\n",
            "149: Prime\n",
            "150: Not Prime\n",
            "151: Prime\n",
            "152: Not Prime\n",
            "153: Not Prime\n",
            "154: Not Prime\n",
            "155: Not Prime\n",
            "156: Not Prime\n",
            "157: Prime\n",
            "158: Not Prime\n",
            "159: Not Prime\n",
            "160: Not Prime\n",
            "161: Not Prime\n",
            "162: Not Prime\n",
            "163: Prime\n",
            "164: Not Prime\n",
            "165: Not Prime\n",
            "166: Not Prime\n",
            "167: Prime\n",
            "168: Not Prime\n",
            "169: Not Prime\n",
            "170: Not Prime\n",
            "171: Not Prime\n",
            "172: Not Prime\n",
            "173: Prime\n",
            "174: Not Prime\n",
            "175: Not Prime\n",
            "176: Not Prime\n",
            "177: Not Prime\n",
            "178: Not Prime\n",
            "179: Prime\n",
            "180: Not Prime\n",
            "181: Prime\n",
            "182: Not Prime\n",
            "183: Not Prime\n",
            "184: Not Prime\n",
            "185: Not Prime\n",
            "186: Not Prime\n",
            "187: Not Prime\n",
            "188: Not Prime\n",
            "189: Not Prime\n",
            "190: Not Prime\n",
            "191: Prime\n",
            "192: Not Prime\n",
            "193: Prime\n",
            "194: Not Prime\n",
            "195: Not Prime\n",
            "196: Not Prime\n",
            "197: Prime\n",
            "198: Not Prime\n",
            "199: Prime\n",
            "200: Not Prime\n"
          ]
        }
      ]
    },
    {
      "cell_type": "code",
      "source": [
        "num = 11\n",
        "# Negative numbers, 0 and 1 are not primes\n",
        "if num > 1:\n",
        "\n",
        "    # Iterate from 2 to n // 2\n",
        "    for i in range(2, (num//2)+1):\n",
        "\n",
        "        # If num is divisible by any number between\n",
        "        # 2 and n / 2, it is not prime\n",
        "        if (num % i) == 0:\n",
        "            print(num, \"is not a prime number\")\n",
        "            break\n",
        "    else:\n",
        "        print(num, \"is a prime number\")\n",
        "else:\n",
        "    print(num, \"is not a prime number\")"
      ],
      "metadata": {
        "colab": {
          "base_uri": "https://localhost:8080/"
        },
        "id": "WAANSikY75ec",
        "outputId": "a862fa60-040d-49a9-b23a-946ea489d728"
      },
      "execution_count": null,
      "outputs": [
        {
          "output_type": "stream",
          "name": "stdout",
          "text": [
            "11 is a prime number\n"
          ]
        }
      ]
    },
    {
      "cell_type": "code",
      "source": [
        "num = 22\n",
        "# Negative numbers, 0 and 1 are not primes\n",
        "if num > 1:\n",
        "\n",
        "    # Iterate from 2 to n // 2\n",
        "    for i in range(2, (num//2)+1):\n",
        "\n",
        "        # If num is divisible by any number between\n",
        "        # 2 and n / 2, it is not prime\n",
        "        if (num % i) == 0:\n",
        "            print(num, \"is not a prime number\")\n",
        "            break\n",
        "    else:\n",
        "        print(num, \"is a prime number\")\n",
        "else:\n",
        "    print(num, \"is not a prime number\")"
      ],
      "metadata": {
        "colab": {
          "base_uri": "https://localhost:8080/"
        },
        "id": "eYDyIFE48TEF",
        "outputId": "278a7254-037d-4d59-ff47-b9f8507eb0ef"
      },
      "execution_count": null,
      "outputs": [
        {
          "output_type": "stream",
          "name": "stdout",
          "text": [
            "22 is not a prime number\n"
          ]
        }
      ]
    },
    {
      "cell_type": "markdown",
      "source": [
        "Q5 Create an iterator class in Python that generates the Fibonacci sequence up to a specified number of\n",
        "terms ?"
      ],
      "metadata": {
        "id": "UV40JcKD8oZF"
      }
    },
    {
      "cell_type": "code",
      "source": [
        "n = 10\n",
        "num1 = 0\n",
        "num2 = 1\n",
        "next_number = num2\n",
        "count = 1\n",
        "\n",
        "while count <= n:\n",
        "    print(next_number, end=\" \")\n",
        "    count += 1\n",
        "    num1, num2 = num2, next_number\n",
        "    next_number = num1 + num2\n",
        "print()"
      ],
      "metadata": {
        "colab": {
          "base_uri": "https://localhost:8080/"
        },
        "id": "12PE9-hn9BED",
        "outputId": "af0d33a0-d7ad-4328-cedd-086722715f85"
      },
      "execution_count": null,
      "outputs": [
        {
          "output_type": "stream",
          "name": "stdout",
          "text": [
            "1 2 3 5 8 13 21 34 55 89 \n"
          ]
        }
      ]
    },
    {
      "cell_type": "code",
      "source": [
        "n = 23\n",
        "num1 = 0\n",
        "num2 = 1\n",
        "next_number = num2\n",
        "count = 1\n",
        "\n",
        "while count <= n:\n",
        "    print(next_number, end=\" \")\n",
        "    count += 1\n",
        "    num1, num2 = num2, next_number\n",
        "    next_number = num1 + num2\n",
        "print()"
      ],
      "metadata": {
        "colab": {
          "base_uri": "https://localhost:8080/"
        },
        "id": "XxfloIyM-ISe",
        "outputId": "ac48eff0-805d-4936-fa55-a93027b4d6a4"
      },
      "execution_count": null,
      "outputs": [
        {
          "output_type": "stream",
          "name": "stdout",
          "text": [
            "1 2 3 5 8 13 21 34 55 89 144 233 377 610 987 1597 2584 4181 6765 10946 17711 28657 46368 \n"
          ]
        }
      ]
    },
    {
      "cell_type": "markdown",
      "source": [
        "Q6  Write a generator function in Python that yields the powers of 2 up to a given exponent ?"
      ],
      "metadata": {
        "id": "Rbus2617TOCr"
      }
    },
    {
      "cell_type": "code",
      "source": [
        "def powers_of_two(exponent):\n",
        "    for i in range(exponent + 1):\n",
        "        yield 2 ** i\n",
        "\n",
        "\n",
        "for power in powers_of_two(5):\n",
        "    print(power)"
      ],
      "metadata": {
        "colab": {
          "base_uri": "https://localhost:8080/"
        },
        "id": "ShnoPcXKTQzB",
        "outputId": "7f70a4d5-1ce8-4d41-9702-fe2943a3efd7"
      },
      "execution_count": null,
      "outputs": [
        {
          "output_type": "stream",
          "name": "stdout",
          "text": [
            "1\n",
            "2\n",
            "4\n",
            "8\n",
            "16\n",
            "32\n"
          ]
        }
      ]
    },
    {
      "cell_type": "code",
      "source": [
        "def powers_of_two(exponent):\n",
        "    for i in range(exponent + 1):\n",
        "        yield 2 ** i\n",
        "\n",
        "\n",
        "for power in powers_of_two(10):\n",
        "    print(power)"
      ],
      "metadata": {
        "colab": {
          "base_uri": "https://localhost:8080/"
        },
        "id": "hsaxZX3_TiJV",
        "outputId": "937dfc3d-1dae-451c-9a26-eaea1cc95a18"
      },
      "execution_count": null,
      "outputs": [
        {
          "output_type": "stream",
          "name": "stdout",
          "text": [
            "1\n",
            "2\n",
            "4\n",
            "8\n",
            "16\n",
            "32\n",
            "64\n",
            "128\n",
            "256\n",
            "512\n",
            "1024\n"
          ]
        }
      ]
    },
    {
      "cell_type": "markdown",
      "source": [
        "In this function, powers_of_two, the yield statement allows it to generate the powers of 2 one at a time, up to the specified exponent. When you iterate over the generator, it will produce the sequence: 1, 2, 4, 8, 16, 32 for an exponent of 5."
      ],
      "metadata": {
        "id": "ouR4w8k1UCx5"
      }
    },
    {
      "cell_type": "markdown",
      "source": [
        "Q7 Implement a generator function that reads a file line by line and yields each line as a string?"
      ],
      "metadata": {
        "id": "_ZOJ98cRUmoB"
      }
    },
    {
      "cell_type": "code",
      "source": [
        "# Creating and writing a text file\n",
        "with open('example.txt', 'w',) as file:\n",
        "    file.write(\"Hello, this is a sample text file created in Google Colab!\"\n",
        "     \" my name is yash shakdwipee\"\n",
        "     \" this so a little bit confusing to execute\"\n",
        "     \" but somehow i managed to execute it\"\n",
        "     \" hope this will be understandable\")"
      ],
      "metadata": {
        "id": "JgFJ1MiUPabc"
      },
      "execution_count": null,
      "outputs": []
    },
    {
      "cell_type": "code",
      "source": [
        "with open('example.txt', 'r') as file:\n",
        "    content = file.read()\n",
        "    print(content)"
      ],
      "metadata": {
        "colab": {
          "base_uri": "https://localhost:8080/"
        },
        "id": "POfBEhAzPf5c",
        "outputId": "68676e3e-e33a-4804-c0e3-ef8436993b9d"
      },
      "execution_count": null,
      "outputs": [
        {
          "output_type": "stream",
          "name": "stdout",
          "text": [
            "Hello, this is a sample text file created in Google Colab! my name is yash shakdwipee this so a little bit confusing to execute but somehow i managed to execute it hope this will be understandable\n"
          ]
        }
      ]
    },
    {
      "cell_type": "code",
      "source": [
        "from google.colab import files\n",
        "files.download('example.txt')"
      ],
      "metadata": {
        "colab": {
          "base_uri": "https://localhost:8080/",
          "height": 17
        },
        "id": "hM98wo5TPiri",
        "outputId": "4fabf5d8-5b3e-4285-d0bb-3097989e64ce"
      },
      "execution_count": null,
      "outputs": [
        {
          "output_type": "display_data",
          "data": {
            "text/plain": [
              "<IPython.core.display.Javascript object>"
            ],
            "application/javascript": [
              "\n",
              "    async function download(id, filename, size) {\n",
              "      if (!google.colab.kernel.accessAllowed) {\n",
              "        return;\n",
              "      }\n",
              "      const div = document.createElement('div');\n",
              "      const label = document.createElement('label');\n",
              "      label.textContent = `Downloading \"${filename}\": `;\n",
              "      div.appendChild(label);\n",
              "      const progress = document.createElement('progress');\n",
              "      progress.max = size;\n",
              "      div.appendChild(progress);\n",
              "      document.body.appendChild(div);\n",
              "\n",
              "      const buffers = [];\n",
              "      let downloaded = 0;\n",
              "\n",
              "      const channel = await google.colab.kernel.comms.open(id);\n",
              "      // Send a message to notify the kernel that we're ready.\n",
              "      channel.send({})\n",
              "\n",
              "      for await (const message of channel.messages) {\n",
              "        // Send a message to notify the kernel that we're ready.\n",
              "        channel.send({})\n",
              "        if (message.buffers) {\n",
              "          for (const buffer of message.buffers) {\n",
              "            buffers.push(buffer);\n",
              "            downloaded += buffer.byteLength;\n",
              "            progress.value = downloaded;\n",
              "          }\n",
              "        }\n",
              "      }\n",
              "      const blob = new Blob(buffers, {type: 'application/binary'});\n",
              "      const a = document.createElement('a');\n",
              "      a.href = window.URL.createObjectURL(blob);\n",
              "      a.download = filename;\n",
              "      div.appendChild(a);\n",
              "      a.click();\n",
              "      div.remove();\n",
              "    }\n",
              "  "
            ]
          },
          "metadata": {}
        },
        {
          "output_type": "display_data",
          "data": {
            "text/plain": [
              "<IPython.core.display.Javascript object>"
            ],
            "application/javascript": [
              "download(\"download_b87e7b3f-7a36-4b00-bca3-b3c7f5206803\", \"example.txt\", 196)"
            ]
          },
          "metadata": {}
        }
      ]
    },
    {
      "cell_type": "code",
      "source": [
        "def read_file(filename):\n",
        "    with open(filename, 'r') as f:\n",
        "        for line in f:\n",
        "            yield line.strip()\n",
        "filename = 'example.txt'\n",
        "for line in read_file(filename):\n",
        "\n",
        "    print(line)"
      ],
      "metadata": {
        "colab": {
          "base_uri": "https://localhost:8080/"
        },
        "id": "s5YAjMlLP0Yt",
        "outputId": "d0271ece-741e-4903-e3dc-e8665b0cab86"
      },
      "execution_count": null,
      "outputs": [
        {
          "output_type": "stream",
          "name": "stdout",
          "text": [
            "Hello, this is a sample text file created in Google Colab! my name is yash shakdwipee this so a little bit confusing to execute but somehow i managed to execute it hope this will be understandable\n"
          ]
        }
      ]
    },
    {
      "cell_type": "code",
      "source": [
        "type(line)"
      ],
      "metadata": {
        "colab": {
          "base_uri": "https://localhost:8080/"
        },
        "id": "JSlicnjCP4gP",
        "outputId": "588f7a1b-9c9d-467d-9511-850fa74c2714"
      },
      "execution_count": null,
      "outputs": [
        {
          "output_type": "execute_result",
          "data": {
            "text/plain": [
              "str"
            ]
          },
          "metadata": {},
          "execution_count": 28
        }
      ]
    },
    {
      "cell_type": "markdown",
      "source": [
        "Q8 Use a lambda function in Python to sort a list of tuples based on the second element of each tuple ?"
      ],
      "metadata": {
        "id": "e10o34pZTFE-"
      }
    },
    {
      "cell_type": "code",
      "source": [
        "# List of tuples\n",
        "list_of_tuples = [(1, 50), (2, 20), (3, 30)]\n",
        "\n",
        "# Sorting the list of tuples by the second element\n",
        "sorted_list = sorted(list_of_tuples, key=lambda x: x[1])\n",
        "\n",
        "print(sorted_list)"
      ],
      "metadata": {
        "colab": {
          "base_uri": "https://localhost:8080/"
        },
        "id": "6kBWoSFSTHE6",
        "outputId": "6dc95b97-85a3-4b32-850a-2a18283016d6"
      },
      "execution_count": null,
      "outputs": [
        {
          "output_type": "stream",
          "name": "stdout",
          "text": [
            "[(2, 20), (3, 30), (1, 50)]\n"
          ]
        }
      ]
    },
    {
      "cell_type": "code",
      "source": [
        "list_of_tuples = [(\"yash\"), (\"blue\"), (\"black\"), (\"white\")]\n",
        "sorted_list = sorted(list_of_tuples, key=lambda x: x[-1])\n",
        "print(sorted_list)"
      ],
      "metadata": {
        "colab": {
          "base_uri": "https://localhost:8080/"
        },
        "id": "jIt2ugasTMCq",
        "outputId": "6d97f000-46f0-409e-9962-0132c81754c7"
      },
      "execution_count": null,
      "outputs": [
        {
          "output_type": "stream",
          "name": "stdout",
          "text": [
            "['blue', 'white', 'yash', 'black']\n"
          ]
        }
      ]
    },
    {
      "cell_type": "markdown",
      "source": [
        "Q9 Write a Python program that uses `map()` to convert a list of temperatures from Celsius to Fahrenheit."
      ],
      "metadata": {
        "id": "kHB2fAZEWMGa"
      }
    },
    {
      "cell_type": "code",
      "source": [
        "# Function to convert Celsius to Fahrenheit\n",
        "def celsius_to_fahrenheit(celsius):\n",
        "    return (celsius * 9/5) + 32\n",
        "\n",
        "# List of temperatures in Celsius\n",
        "celsius_temperatures = [0, 20, 37, 100]\n",
        "\n",
        "# Using map() to convert each temperature to Fahrenheit\n",
        "fahrenheit_temperatures = list(map(celsius_to_fahrenheit, celsius_temperatures))\n",
        "\n",
        "# Printing the result\n",
        "print(fahrenheit_temperatures)"
      ],
      "metadata": {
        "colab": {
          "base_uri": "https://localhost:8080/"
        },
        "id": "mlqJ5YeZWPD_",
        "outputId": "fc1002fe-9091-45b4-f9cd-1c64e551e10a"
      },
      "execution_count": null,
      "outputs": [
        {
          "output_type": "stream",
          "name": "stdout",
          "text": [
            "[32.0, 68.0, 98.6, 212.0]\n"
          ]
        }
      ]
    },
    {
      "cell_type": "markdown",
      "source": [
        "Q10 Create a Python program that uses `filter()` to remove all the vowels from a given string ?"
      ],
      "metadata": {
        "id": "AcPD3D5-YLc0"
      }
    },
    {
      "cell_type": "code",
      "source": [
        "def remove_vowels(input_string):\n",
        "    vowels = 'aeiouAEIOU'\n",
        "    return ''.join(filter(lambda char: char not in vowels, input_string))\n"
      ],
      "metadata": {
        "id": "YU1brDiOYPL8"
      },
      "execution_count": null,
      "outputs": []
    },
    {
      "cell_type": "code",
      "source": [
        "input_string = \"Hello, yash here , whats going there!\"\n",
        "result = remove_vowels(input_string)\n",
        "print(result)"
      ],
      "metadata": {
        "colab": {
          "base_uri": "https://localhost:8080/"
        },
        "id": "YE38FsU9ZJl0",
        "outputId": "68a50ada-8121-498a-c8a6-fec7cc9bfbea"
      },
      "execution_count": null,
      "outputs": [
        {
          "output_type": "stream",
          "name": "stdout",
          "text": [
            "Hll, ysh hr , whts gng thr!\n"
          ]
        }
      ]
    },
    {
      "cell_type": "code",
      "source": [
        "input_string = \"THE WORLDS NEEDS TO UNDERSTAND THE IMPORTANCE OF MOTHER NATURE!\"\n",
        "result = remove_vowels(input_string)\n",
        "print(result)"
      ],
      "metadata": {
        "colab": {
          "base_uri": "https://localhost:8080/"
        },
        "id": "Zc6rKMVdZS8L",
        "outputId": "88e0df51-b248-4658-b9a0-682e8259dfc8"
      },
      "execution_count": null,
      "outputs": [
        {
          "output_type": "stream",
          "name": "stdout",
          "text": [
            "TH WRLDS NDS T NDRSTND TH MPRTNC F MTHR NTR!\n"
          ]
        }
      ]
    },
    {
      "cell_type": "markdown",
      "source": [
        "Q11 Imagine an accounting routine used in a book shop. It works on a list with sublists, which look like this:\n",
        "\n",
        "Order Nmuber-----------Book Title And Author----------Quantity---------Price per item\n",
        "\n",
        "34587--------------------learning python, mark lutz------------4 --------------------40.95\n",
        "\n",
        "98762----------------programming python,mark lutz--------5---------------------56.80\n",
        "\n",
        "77226----------------head first python, paul berry------------3----------------------32.95\n",
        "\n",
        "88112---------------einfuhrung in python3,bernd klein----3----------------------24.99\n",
        "\n",
        "\n",
        "       \n",
        " Write a Python program, which returns a list with 2-tuples. Each tuple consists of the order number and the\n",
        "product of the price per item and the quantity. The product should be increased by 10,- € if the value of the\n",
        "order is smaller than 100,00 €.\n",
        "\n",
        "\n",
        " Write a Python program using lambda and map."
      ],
      "metadata": {
        "id": "pQTebV-5Zo1D"
      }
    },
    {
      "cell_type": "code",
      "source": [
        "# List of orders\n",
        "orders = [\n",
        "    [\"34587\", \"Learning Python, Mark Lutz\", 4, 40.95],\n",
        "    [\"98762\", \"Programming Python, Mark Lutz\", 5, 56.80],\n",
        "    [\"77226\", \"Head First Python, Paul Barry\", 3, 32.95],\n",
        "    [\"88112\", \"Einführung in Python3, Bernd Klein\", 3, 24.99]\n",
        "]\n",
        "\n",
        "# Function to calculate the total price and apply the 10€ increase if needed\n",
        "calculate_total = lambda order: (order[0], order[2] * order[3] + 10 if order[2] * order[3] < 100 else order[2] * order[3])\n",
        "\n",
        "# Using map to apply the function to each order\n",
        "invoice_totals = list(map(calculate_total, orders))\n",
        "\n",
        "print(invoice_totals)"
      ],
      "metadata": {
        "id": "XfhPi2OBcyb8",
        "colab": {
          "base_uri": "https://localhost:8080/"
        },
        "outputId": "5a82f088-5aa9-469f-8b00-61364d2f84ba"
      },
      "execution_count": 1,
      "outputs": [
        {
          "output_type": "stream",
          "name": "stdout",
          "text": [
            "[('34587', 163.8), ('98762', 284.0), ('77226', 108.85000000000001), ('88112', 84.97)]\n"
          ]
        }
      ]
    },
    {
      "cell_type": "code",
      "source": [],
      "metadata": {
        "id": "WO7ZdIv0xNrk"
      },
      "execution_count": null,
      "outputs": []
    }
  ]
}